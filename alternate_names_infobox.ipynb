{
 "cells": [
  {
   "cell_type": "code",
   "execution_count": 179,
   "metadata": {},
   "outputs": [],
   "source": [
    "import re\n",
    "import os\n",
    "import pandas as pd\n",
    "import bz2\n",
    "from elasticsearch import helpers\n",
    "from elasticsearch import Elasticsearch"
   ]
  },
  {
   "cell_type": "markdown",
   "metadata": {},
   "source": [
    "# Opening file method"
   ]
  },
  {
   "cell_type": "code",
   "execution_count": 2,
   "metadata": {},
   "outputs": [],
   "source": [
    "def open_file(path):\n",
    "    file = bz2.open(os.path.expanduser(path))\n",
    "    return file"
   ]
  },
  {
   "cell_type": "markdown",
   "metadata": {},
   "source": [
    "# Data extraction method"
   ]
  },
  {
   "cell_type": "code",
   "execution_count": 22,
   "metadata": {},
   "outputs": [],
   "source": [
    "def extract_data(data,output):\n",
    "    #alternate_name\n",
    "    #alternate_names\n",
    "    #aka\n",
    "    #also known as\n",
    "    #other_name\n",
    "    #other_names\n",
    "    #alias\n",
    "    #altname\n",
    "    #altnames\n",
    "    #alt_name\n",
    "    #alt_names\n",
    "\n",
    "    regex1 = r'(<title>(.*?)</title>)'\n",
    "    regex2 = '(\\|\\s*(alternate_names?|aka|also known as|other_names?|othernames?|alias|altnames?|alt_names?)\\s*= *([^\\n]*))'\n",
    "\n",
    "\n",
    "    title = \"\"\n",
    "    temp = \"\"\n",
    "    alt = \"\"\n",
    "    infoboxes = [\"{{infboox\", \"{{Infobox\", \"{{ Infobox\", \"{{ infobox\"]\n",
    "    count_title = 0\n",
    "    count_infobox = 0\n",
    "    a = 0\n",
    "    b = 0\n",
    "\n",
    "    \n",
    "    line = data.readline().decode(\"utf-8\")\n",
    "    with open(output, 'w') as f:\n",
    "        while line:\n",
    "            reg = re.search(regex1 + '|' + regex2, line)\n",
    "            if reg:\n",
    "                if reg.group()[0] == \"<\":\n",
    "                    title = reg.group(2)\n",
    "                    count_title = count_title + 1\n",
    "            elif any(x in line for x in infoboxes):\n",
    "                \n",
    "                while line:\n",
    "\n",
    "                    if \"</page>\" in line or \"<page>\" in line or line.startswith(\"}}\") or line.startswith(\" }}\"):\n",
    "                        if title:\n",
    "                            count_infobox = count_infobox + 1\n",
    "                            print(\"title: \" + title, file = f)\n",
    "                            print(\"alternative: \" + alt, file = f)\n",
    "                            print(\"------------\",file = f)\n",
    "                            alt = \"\"\n",
    "                            title = \"\"\n",
    "                            temp = \"\"\n",
    "                            a = 0\n",
    "                            b = 0\n",
    "                        break\n",
    "                            \n",
    "                    reg2 = re.search(regex1 + '|' + regex2, line)\n",
    "                    if reg2:\n",
    "                       \n",
    "                        if reg2.group(5) != None:\n",
    "                            temp = reg2.group(5)\n",
    "                            if \"{{\" in temp:\n",
    "                                c = 0            \n",
    "                                while line:\n",
    "                                    c = c + 1\n",
    "                                    if c == 10:\n",
    "                                        break\n",
    "                                    a = temp.count(\"{{\")\n",
    "                                    b = temp.count(\"}}\")\n",
    "                                    if a == b:\n",
    "                                        break\n",
    "                                    line = data.readline().decode(\"utf-8\")\n",
    "                                    temp = temp + line \n",
    "                                    temp = temp.strip()\n",
    "                                    \n",
    "                                \n",
    "                                alt = temp\n",
    "                                if alt.startswith(\"*\"):\n",
    "                                    alt = alt[1:]              \n",
    "    \n",
    "\n",
    "                            else:\n",
    "                                alt = temp\n",
    "                                if alt.startswith(\"*\"):\n",
    "                                    alt = alt[1:]\n",
    "\n",
    "                    line = data.readline().decode(\"utf-8\")\n",
    "                    \n",
    "\n",
    "            line = data.readline().decode(\"utf-8\")      \n",
    "                \n",
    "    print(\"Number of titles: \", count_title)\n",
    "    print(\"Number of infoboxes: \", count_infobox)\n",
    "                     "
   ]
  },
  {
   "cell_type": "markdown",
   "metadata": {},
   "source": [
    "# Data cleaning method"
   ]
  },
  {
   "cell_type": "code",
   "execution_count": 303,
   "metadata": {},
   "outputs": [],
   "source": [
    "def clear_data(path,path_clear):\n",
    "    \n",
    "    \n",
    "    \n",
    "    with open(path) as out, open(path_clear, 'w') as clear:\n",
    "        for line in out:\n",
    "            list_capitals = []\n",
    "            if line.startswith(\"title:\"):\n",
    "                \n",
    "                line = re.sub(r\"&amp;\", \"&\", line)\n",
    "                line = re.sub(r\"&ndash;\", \"-\",line)\n",
    "                line = re.sub(r\"&quot;\", \"\\\"\",line)\n",
    "                \n",
    "                clear.write(line)\n",
    "            elif line.startswith(\"alternative:\"):\n",
    "                \n",
    "                line = re.sub(r\"&amp;\", \"&\", line)\n",
    "                \n",
    "                line = re.sub(r\"{{[Cc]itation(.*?)}}\", \"\",line)\n",
    "                \n",
    "                line = re.sub(r\"{{[Cc]ite(.*?)}}\", \"\",line)\n",
    "                \n",
    "                line = re.sub(r\"\\| ?id ?=(.*)\", \"\",line)\n",
    "                \n",
    "                line = re.sub(r\",? ?native_name=(.*)\", \"\",line)\n",
    "                \n",
    "                line = re.sub(r\"&lt(.*?)&gt;\", \",\", line)\n",
    "                \n",
    "                line = re.sub(r\"{{Braille cell(.*?)}}\", \"\", line)\n",
    "                \n",
    "                line = re.sub(r\"&quot;\", \"\\\"\",line)\n",
    "                \n",
    "                line = re.sub(r\"'*\", \"\",line)\n",
    "                \n",
    "                line = re.sub(r\"{{[Ll]ang.*?\\|.*?\\|(.*?)}}\", r\"\\1\", line)\n",
    "                \n",
    "                line = re.sub(r\"{{[Ll]ang.*?\\|(.*?)}}\", r\"\\1\", line)\n",
    "                \n",
    "                line = re.sub(r\"\\[\\[.*\\|(.*?)\\]\\]\",r\"\\1\",line)\n",
    "                \n",
    "                line = re.sub(r\"\\[\\[(.*?)\\]\\]\",r\"\\1\",line)\n",
    "                \n",
    "                line = re.sub(r\"{{\\·}}\",\",\", line)\n",
    "                \n",
    "                line = re.sub(r\"{{mp\\|(.*?)(?:}}|\\|.*?}})\",r\"\\1\",line)\n",
    "   \n",
    "                line = re.sub(r\"&ndash;\", \"-\",line)\n",
    "                \n",
    "                line = re.sub(r\"\\[http(.*?)\\]\", \"\",line)\n",
    "            \n",
    "                line = re.sub(r\"{{[Pp]ad top italic ?\\|(.*?)}}\",r\"\\1\",line)\n",
    "                \n",
    "                line = re.sub(r\"{{[Ss]mall.*\\|(.*?)}}\",r\"\\1\",line)\n",
    "                \n",
    "                line = re.sub(r\"{{[Ss]mall.*\",\"\",line)\n",
    "                \n",
    "                line = re.sub(r\"{{[Nn]ative.*\\|.*\\|(.*?)}}\",r\"\\1\",line)\n",
    "            \n",
    "                line = re.sub(r\"&lt;.*\",\"\",line)\n",
    "            \n",
    "                line = re.sub(r\"See note.*\",\"\",line)\n",
    "                \n",
    "                line = re.sub(r\"{{[Oo]kina}}\",\"\\'\",line)\n",
    "                \n",
    "                line = re.sub(r\"{{[Nn]o ?wrap.*\\|(.*?)}}\",r\"\\1\",line)\n",
    "                \n",
    "                line = re.sub(r\"{{[Nn]owrap.*\",\"\",line)\n",
    "                \n",
    "                line = re.sub(r\"{{[Nn]o ?bold.*\\|(.*?)}}\",r\"\\1\",line)\n",
    "                \n",
    "                line = re.sub(r\"{{[Nn]obold.*\",\"\",line)\n",
    "                \n",
    "                line = re.sub(r\"{{[Ii]talic correction.*\\|(.*?)}}\",r\"\\1\",line)\n",
    "                \n",
    "                line = re.sub(r\"{{[Nn]o ?italic.*\\|(.*?)}}\",r\"\\1\",line)\n",
    "                \n",
    "                line = re.sub(r\"{{ ?[Ff]lat ?list ?|(.*?)}}\", r\"\\1\", line)\n",
    "                \n",
    "                line = re.sub(r\"{{ ?[Ff]lat ?list ?|\", \"\", line)\n",
    "                \n",
    "                line = re.sub(r\"{{ ?[Pp]lain ?list ?|(.*?)}}\", r\"\\1\", line)\n",
    "                \n",
    "                line = re.sub(r\"{{ ?[Hh]list ?|(.*?)}}\", r\"\\1\", line)\n",
    "                \n",
    "                line = re.sub(r\"{{startplainlist.*\", \"\", line)\n",
    "                \n",
    "                line = re.sub(r\"{{ ?[Uu]nbulleted ?list ?|\", \"\", line)\n",
    "                \n",
    "                line = re.sub(r\"{{ ?[Bb]ulleted ?list ?|\", \"\", line)\n",
    "                \n",
    "                line = re.sub(r\"{{ublist|class=nowrap |\", \"\", line)\n",
    "                \n",
    "                line = re.sub(r\"{{ ?[Uu]blist ?|\", \"\", line)\n",
    "                \n",
    "                line = re.sub(r\"{{bulleted_list , \", \"\", line)\n",
    "                \n",
    "                line = re.sub(r\"{{[Ww]ebarchive.*\", \"\", line)\n",
    "                \n",
    "                line = re.sub(r\"mi2=.*\", \"\", line)\n",
    "                \n",
    "                line = re.sub(r\"{{ ?[Uu]bl ?|\", \"\", line)\n",
    "                \n",
    "                line = re.sub(r\"\\*\",\",\",line)\n",
    "                \n",
    "                line = re.sub(r\"\\|\",\",\",line)\n",
    "                \n",
    "                line = re.sub(r\"{{zh ?,\", \"\", line)\n",
    "                \n",
    "                line = re.sub(r\"s2? ?=\", \"\", line)\n",
    "                \n",
    "                line = re.sub(r\"t2? ?=\", \"\", line)\n",
    "                \n",
    "                line = re.sub(r\"p2? ?=\", \"\", line)\n",
    "                \n",
    "                line = re.sub(r\"w2? ?=\", \"\", line)\n",
    "                \n",
    "                line = re.sub(r\"l2? ?=\", \"\", line)\n",
    "                \n",
    "                line = re.sub(r\"{{iafd name\", \"\", line)\n",
    "                \n",
    "                line = re.sub(r\"{{[Cc]ollapsible list ? ?,?\", \"\", line)\n",
    "                \n",
    "                line = re.sub(r\"{{csv,\", \"\", line)\n",
    "                \n",
    "                line = re.sub(r\"{{-\", \",\", line)\n",
    "                \n",
    "                line = re.sub(r\"{{[Nn]ihongo4?,?\", \"\", line)\n",
    "                \n",
    "                line = re.sub(r\"{{lower,?\", \"\", line)\n",
    "                \n",
    "                line = re.sub(r\"0.2em,?\", \"\", line)\n",
    "                \n",
    "                line = re.sub(r\"{{r,?\", \"\", line)\n",
    "                \n",
    "                line = re.sub(r\"{{transl ?,.. ?,\", \"\", line)\n",
    "\n",
    "                line = re.sub(r\"hr ?=\", \"\",line)\n",
    "                \n",
    "                line = re.sub(r\"hanja ?=\", \"\",line)\n",
    "                \n",
    "                line = re.sub(r\"rr ?=\", \"\",line)\n",
    "                \n",
    "                line = re.sub(r\"tl ?=\", \"\",line)\n",
    "                \n",
    "                line = re.sub(r\"c2? ?=\", \"\",line)\n",
    "                \n",
    "                line = re.sub(r\"hangul ?=\", \"\",line)\n",
    "              \n",
    "                line = re.sub(r\"{{[Hh]ebrew ?,\", \"\",line)\n",
    "                \n",
    "                line = re.sub(r\"{{in lang, ?.. ?,\", \"\",line)\n",
    "                \n",
    "                line = re.sub(r\"&nbsp;\", \",\",line)\n",
    "                \n",
    "                line = re.sub(r\"--&gt;\", \"\",line)\n",
    "                       \n",
    "                line = re.sub(r\"\\t\", \"\",line)\n",
    "                \n",
    "                line = re.sub(r\"&gt;\", \",\",line)\n",
    "                \n",
    "                line = re.sub(r\" +\", \" \",line)\n",
    "                \n",
    "                line = re.sub(r\"{{[Ss]fn.*\", \"\", line)\n",
    "                \n",
    "                line = re.sub(r\"{{{NOC.*\", \"\", line)\n",
    "                \n",
    "                line = re.sub(r\"Brailsford,2017,loGaelic\", \"\", line)\n",
    "                \n",
    "                line = re.sub(r\"{{Infobox.*\", \"\", line)\n",
    "                \n",
    "                line = re.sub(r\"{{[Ll]inktext.*\", \"\", line)\n",
    "                \n",
    "                line = re.sub(r\"Günümüzde.*\", \"\", line)\n",
    "                \n",
    "                line = re.sub(r\"/English Station Index\", \"\", line)\n",
    "                \n",
    "                line = re.sub(r\"hr\", \"\", line)\n",
    "                \n",
    "                line = re.sub(r\"pr\", \"\",line)\n",
    "                \n",
    "                line = re.sub(r\"de\", \"\",line)\n",
    "                \n",
    "                line = re.sub(r\"ma\", \"\",line)\n",
    "                \n",
    "                line = re.sub(r\"(.*?)\\s*=\\s*(.*?)\", \"\", line)\n",
    "                \n",
    "                line = re.sub(r\";\", \",\", line) \n",
    "                \n",
    "                line = re.sub(r\"italino\", \"\", line)\n",
    "                \n",
    "                line = re.sub(r\" p. \", \"\", line)\n",
    "                \n",
    "                line = re.sub(r\"Morris.*\", \"\", line)\n",
    "                \n",
    "                line = re.sub(r\"\\}\", \",\", line) \n",
    "                \n",
    "                line = re.sub(r\"none\", \"\", line)\n",
    "                \n",
    "                line = re.sub(r\"Courtesy name\", \"\",line)\n",
    "                \n",
    "                line = re.sub(r\"labelno\\)\", \"\",line)\n",
    "                \n",
    "                line = re.sub(r\"Birth name\", \"\",line)\n",
    "                 \n",
    "                line = re.sub(r\"{{{other_names\", \"\",line)\n",
    "                \n",
    "                line = re.sub(r\"Abbreviation\", \"\",line)\n",
    "                \n",
    "                line = re.sub(r\"arrondissement\", \"\",line)\n",
    "                \n",
    "                line = re.sub(r\"{{.*\", \"\",line)\n",
    "           \n",
    "                line = re.sub(r\"((,){2,})\", \",\",line)\n",
    "                \n",
    "                line = re.sub(r\",\\n\", \"\\n\",line)\n",
    "                \n",
    "                line = re.sub(r\", ,\",\",\",line)\n",
    "                \n",
    " \n",
    "                                \n",
    "                clear.write(line)\n",
    "            else:\n",
    "                \n",
    "                clear.write(\"-----------\\n\")"
   ]
  },
  {
   "cell_type": "markdown",
   "metadata": {},
   "source": [
    "# Statistics and visualizations"
   ]
  },
  {
   "cell_type": "code",
   "execution_count": 23,
   "metadata": {},
   "outputs": [
    {
     "name": "stdout",
     "output_type": "stream",
     "text": [
      "Number of titles:  145634\n",
      "Number of infoboxes:  24303\n"
     ]
    }
   ],
   "source": [
    "data = open_file(\"~/Desktop/enwiki-latest-pages-articles27.xml-p65475910p65901407.bz2\")\n",
    "extract_data(data,'data/data_small.txt')"
   ]
  },
  {
   "cell_type": "code",
   "execution_count": 24,
   "metadata": {},
   "outputs": [
    {
     "name": "stdout",
     "output_type": "stream",
     "text": [
      "Number of titles:  453408\n",
      "Number of infoboxes:  96621\n"
     ]
    }
   ],
   "source": [
    "medium_data = open_file(\"~/Desktop/enwiki-latest-pages-articles10.xml-p4045403p5399366.bz2\")\n",
    "extract_data(medium_data,'data/data_medium.txt')"
   ]
  },
  {
   "cell_type": "code",
   "execution_count": 25,
   "metadata": {},
   "outputs": [
    {
     "name": "stdout",
     "output_type": "stream",
     "text": [
      "Number of titles:  20707605\n",
      "Number of infoboxes:  3640479\n"
     ]
    }
   ],
   "source": [
    "big_data = open_file(\"~/Desktop/enwiki-latest-pages-articles.xml.bz2\")\n",
    "extract_data(big_data,'data/data_big.txt')"
   ]
  },
  {
   "cell_type": "code",
   "execution_count": 490,
   "metadata": {},
   "outputs": [],
   "source": [
    "clear_data('data/data_medium.txt','data/data_medium_clear.txt')"
   ]
  },
  {
   "cell_type": "code",
   "execution_count": 304,
   "metadata": {},
   "outputs": [],
   "source": [
    "clear_data('data/data_big.txt','data/data_big_clear.txt')"
   ]
  },
  {
   "cell_type": "code",
   "execution_count": 379,
   "metadata": {},
   "outputs": [],
   "source": [
    "file = open('data/data_big_clear.txt', encoding =\"utf-8\")\n",
    "text = file.readlines()"
   ]
  },
  {
   "cell_type": "code",
   "execution_count": 385,
   "metadata": {},
   "outputs": [
    {
     "name": "stdout",
     "output_type": "stream",
     "text": [
      "Average number of alternate names is:  0.04171786185279465\n",
      "Max number of alternate names is:  32\n",
      " It (character)\n",
      "Number of infoboxes cointaing alternative name:  100964\n"
     ]
    }
   ],
   "source": [
    "my_dict = {}\n",
    "x = []\n",
    "sum_of =0\n",
    "for i in text:\n",
    "    if i.startswith('title'):\n",
    "        t = i\n",
    "        t = re.sub(r\"title:\", \"\",t)\n",
    "        t = re.sub(r\"\\n\",\"\",t)\n",
    "    if i.startswith('alternative'):\n",
    "        t2 = i\n",
    "        t2 = re.sub(r\"alternative:\",\"\",t2)\n",
    "        t2 = re.sub(r\"\\n\",\"\",t2)\n",
    "        x = t2.split(\",\")\n",
    "        if \" \" in x:\n",
    "            x.remove(\" \")\n",
    "        number = len(x)\n",
    "    my_dict[t] = len(x)\n",
    "    \n",
    "number = 0\n",
    "total_sum = 0\n",
    "maximum = 0\n",
    "slovo = \"\"\n",
    "for key in my_dict:\n",
    "    total_sum = total_sum + my_dict[key]\n",
    "    number = number + 1\n",
    "    if my_dict[key] > maximum:\n",
    "        maximum = my_dict[key]\n",
    "        slovo = key\n",
    "    if my_dict[key] > 0:\n",
    "        sum_of = sum_of + 1\n",
    "\n",
    "        \n",
    "print(\"Average number of alternate names is: \", total_sum / number)\n",
    "print(\"Max number of alternate names is: \", maximum)\n",
    "print(slovo) \n",
    "print(\"Number of infoboxes cointaing alternative name: \",sum_of)"
   ]
  },
  {
   "cell_type": "code",
   "execution_count": 388,
   "metadata": {},
   "outputs": [],
   "source": [
    "sorted_dict_1 = {}\n",
    "sorted_keys_1 = sorted(my_dict, key=my_dict.get, reverse = True)\n",
    "\n",
    "for w in sorted_keys_1:\n",
    "    sorted_dict_1[w] = my_dict[w]"
   ]
  },
  {
   "cell_type": "code",
   "execution_count": 417,
   "metadata": {},
   "outputs": [
    {
     "name": "stdout",
     "output_type": "stream",
     "text": [
      "[(' It (character)', 32), (' John Reese (Person of Interest)', 32), (' Harold Finch (Person of Interest)', 28), (' Johann Otto Hoch', 27), (' Choky Ice', 27), (' John Holmes (actor)', 25), (' The Prophet (musician)', 25), (' Technoboy', 25), (' Oliver Lieb', 24), (' Harry Reems', 24)]\n"
     ]
    }
   ],
   "source": [
    "print(list(sorted_dict_1.items())[:10])"
   ]
  },
  {
   "cell_type": "code",
   "execution_count": 383,
   "metadata": {},
   "outputs": [
    {
     "name": "stdout",
     "output_type": "stream",
     "text": [
      "Medián hodnôt je:  0\n"
     ]
    }
   ],
   "source": [
    "import statistics\n",
    "list_stat = []\n",
    "\n",
    "for key in sorted_dict_1:\n",
    "    list_stat.append(sorted_dict_1[key])\n",
    "\n",
    "print(\"Medián hodnôt je: \",statistics.median(list_stat))"
   ]
  },
  {
   "cell_type": "code",
   "execution_count": 392,
   "metadata": {},
   "outputs": [
    {
     "data": {
      "image/png": "[encoded data removed]",
      "text/plain": [
       "<Figure size 1440x360 with 1 Axes>"
      ]
     },
     "metadata": {
      "needs_background": "light"
     },
     "output_type": "display_data"
    }
   ],
   "source": [
    "import matplotlib.pyplot as plt\n",
    "import collections\n",
    "\n",
    "z = list(sorted_dict_1.keys())\n",
    "z = z[:10]\n",
    "z1 = list(sorted_dict_1.values())\n",
    "z1 = z1[:10]\n",
    "plt.figure(figsize=[20,5])\n",
    "plt.xticks(fontsize=8)\n",
    "plt.yticks(fontsize=8)\n",
    "plt.xlabel('Alternative name',fontsize=15)\n",
    "plt.ylabel('Number',fontsize=15)\n",
    "plt.bar(z, z1)\n",
    "plt.show()"
   ]
  },
  {
   "cell_type": "code",
   "execution_count": 331,
   "metadata": {},
   "outputs": [
    {
     "name": "stdout",
     "output_type": "stream",
     "text": [
      "most popular aka:   Main Street\n",
      "number of word:  20\n"
     ]
    }
   ],
   "source": [
    "my_dict_2 = {}\n",
    "maximum = 0\n",
    "slovo = \"\"\n",
    "\n",
    "for i in text:\n",
    "    if i.startswith('title'):\n",
    "        t = i\n",
    "        t = re.sub(r\"title:\", \"\",t)\n",
    "        t = re.sub(r\"\\n\",\"\",t)\n",
    "    if i.startswith('alternative'):\n",
    "        t2 = i\n",
    "        t2 = re.sub(r\"alternative:\",\"\",t2)\n",
    "        t2 = re.sub(r\"\\n\",\"\",t2)\n",
    "        x = t2.split(\",\")\n",
    "        #number_2 = len(x)\n",
    "        \n",
    "        for k in x:\n",
    "            if k not in my_dict_2.keys():\n",
    "                my_dict_2[k] = 1\n",
    "            else:\n",
    "                my_dict_2[k] = my_dict_2[k] + 1\n",
    "\n",
    "for key in my_dict_2:\n",
    "    if my_dict_2[key] > maximum:\n",
    "        if key != \" \" and key != \" 2004\" and key != \" Jr.\" and key != \"Morris\" and key != \" none\" and key != \" etc.\" and key != \"1\" and key != \"e\" :\n",
    "            maximum = my_dict_2[key]\n",
    "            slovo = key\n",
    "\n",
    "print(\"most popular aka: \", slovo)\n",
    "print(\"number of word: \", maximum)                "
   ]
  },
  {
   "cell_type": "code",
   "execution_count": 332,
   "metadata": {},
   "outputs": [],
   "source": [
    "sorted_dict = {}\n",
    "sorted_keys = sorted(my_dict_2, key=my_dict_2.get, reverse = True)\n",
    "\n",
    "for w in sorted_keys:\n",
    "    sorted_dict[w] = my_dict_2[w]"
   ]
  },
  {
   "cell_type": "code",
   "execution_count": 333,
   "metadata": {},
   "outputs": [
    {
     "name": "stdout",
     "output_type": "stream",
     "text": [
      "[(' ', 3542810), (' Jr.', 28), (' etc.', 23), ('e', 20), (' Main Street', 20), (' Mike', 16), ('1', 16), (' 2', 16), (' The Beast', 15), (' Tony', 15)]\n"
     ]
    }
   ],
   "source": [
    "print(list(sorted_dict.items())[:10])"
   ]
  },
  {
   "cell_type": "code",
   "execution_count": 334,
   "metadata": {},
   "outputs": [],
   "source": [
    "del sorted_dict[\" \"]"
   ]
  },
  {
   "cell_type": "code",
   "execution_count": 488,
   "metadata": {},
   "outputs": [
    {
     "data": {
      "image/png": "[encoded data removed]",
      "text/plain": [
       "<Figure size 1440x360 with 1 Axes>"
      ]
     },
     "metadata": {
      "needs_background": "light"
     },
     "output_type": "display_data"
    }
   ],
   "source": [
    "import matplotlib.pyplot as plt\n",
    "import collections\n",
    "\n",
    "\n",
    "no = list(sorted_dict.keys())\n",
    "no = no[:10]\n",
    "no1 = list(sorted_dict.values())\n",
    "no1 = no1[:10]\n",
    "plt.figure(figsize=[20,5])\n",
    "plt.xticks(fontsize=8)\n",
    "plt.yticks(fontsize=8)\n",
    "plt.xlabel('Alternative name',fontsize=20)\n",
    "plt.ylabel('Number of occurance',fontsize=20)\n",
    "plt.bar(no, no1)\n",
    "plt.show()"
   ]
  },
  {
   "cell_type": "markdown",
   "metadata": {},
   "source": [
    "# Methods for indexing and searching"
   ]
  },
  {
   "cell_type": "code",
   "execution_count": 341,
   "metadata": {},
   "outputs": [],
   "source": [
    "es = Elasticsearch()\n"
   ]
  },
  {
   "cell_type": "code",
   "execution_count": 342,
   "metadata": {},
   "outputs": [
    {
     "data": {
      "text/plain": [
       "{'name': 'MBPuzivelaLaura',\n",
       " 'cluster_name': 'elasticsearch_lobbova16',\n",
       " 'cluster_uuid': 'j8vcIdscRzOhg31JTs8qBQ',\n",
       " 'version': {'number': '7.10.0',\n",
       "  'build_flavor': 'default',\n",
       "  'build_type': 'tar',\n",
       "  'build_hash': '51e9d6f22758d0374a0f3f5c6e8f3a7997850f96',\n",
       "  'build_date': '2020-11-09T21:30:33.964949Z',\n",
       "  'build_snapshot': False,\n",
       "  'lucene_version': '8.7.0',\n",
       "  'minimum_wire_compatibility_version': '6.8.0',\n",
       "  'minimum_index_compatibility_version': '6.0.0-beta1'},\n",
       " 'tagline': 'You Know, for Search'}"
      ]
     },
     "execution_count": 342,
     "metadata": {},
     "output_type": "execute_result"
    }
   ],
   "source": [
    "es.info()"
   ]
  },
  {
   "cell_type": "code",
   "execution_count": 343,
   "metadata": {},
   "outputs": [
    {
     "data": {
      "text/plain": [
       "{'alt': {'aliases': {}}, 'ix': {'aliases': {}}, 'alternate': {'aliases': {}}}"
      ]
     },
     "execution_count": 343,
     "metadata": {},
     "output_type": "execute_result"
    }
   ],
   "source": [
    "es.indices.get_alias(\"*\")"
   ]
  },
  {
   "cell_type": "code",
   "execution_count": 344,
   "metadata": {},
   "outputs": [],
   "source": [
    "file = open('data/data_big_clear.txt', encoding =\"utf-8\")"
   ]
  },
  {
   "cell_type": "code",
   "execution_count": 345,
   "metadata": {},
   "outputs": [],
   "source": [
    "text = file.readlines()"
   ]
  },
  {
   "cell_type": "code",
   "execution_count": 346,
   "metadata": {},
   "outputs": [
    {
     "data": {
      "text/plain": [
       "{'acknowledged': True}"
      ]
     },
     "execution_count": 346,
     "metadata": {},
     "output_type": "execute_result"
    }
   ],
   "source": [
    "es.indices.delete(index='ix')"
   ]
  },
  {
   "cell_type": "code",
   "execution_count": 348,
   "metadata": {},
   "outputs": [
    {
     "name": "stderr",
     "output_type": "stream",
     "text": [
      "//anaconda3/lib/python3.7/site-packages/elasticsearch/connection/base.py:190: ElasticsearchDeprecationWarning: [types removal] Specifying types in bulk requests is deprecated.\n",
      "  warnings.warn(message, category=ElasticsearchDeprecationWarning)\n"
     ]
    },
    {
     "data": {
      "text/plain": [
       "(3639903, [])"
      ]
     },
     "execution_count": 348,
     "metadata": {},
     "output_type": "execute_result"
    }
   ],
   "source": [
    "count = 1\n",
    "alt_list = []\n",
    "t = \"\"\n",
    "t2 = \"\"\n",
    "for i in text:\n",
    "    if i.startswith('title'):\n",
    "        t = i\n",
    "        t = re.sub(r\"title:\", \"\",t)\n",
    "    if i.startswith('alternative'):\n",
    "        t2 = i\n",
    "        t2 = re.sub(r\"alternative:\",\"\",t2)\n",
    "    \n",
    "        actions = {\n",
    "            \"_index\": \"ix\",\n",
    "            \"_type\": \"doc\",\n",
    "            \"_id\": count,\n",
    "            \"_source\": {\n",
    "                \"title\": t,\n",
    "                \"alternative\": t2 }\n",
    "          }  \n",
    "        alt_list.append(actions)\n",
    "        count = count + 1\n",
    "\n",
    "helpers.bulk(es, alt_list)\n"
   ]
  },
  {
   "cell_type": "code",
   "execution_count": 460,
   "metadata": {},
   "outputs": [],
   "source": [
    "def find_in_titles(word):\n",
    "    body = {\n",
    "        \"from\":0,\n",
    "        \"track_total_hits\": True,\n",
    "        \"size\": 7,\n",
    "        \"query\": {\n",
    "            \"match\": {\n",
    "                \"title\":word\n",
    "            }\n",
    "        }\n",
    "    }\n",
    "\n",
    "    res = es.search(index=\"ix\",body=body)\n",
    "    if res['hits']['total']['value'] > 7:\n",
    "            print(\"Too many results. Just first 7 are shown. Be more specific.\")\n",
    "            print(\"...\")\n",
    "    for hit in res['hits']['hits']:\n",
    "        print (\"Title: \", hit['_source']['title']) \n",
    "        \n",
    "        if hit['_source']['alternative'] == \" \\n\":\n",
    "            print(\"-- No alternative name --\")\n",
    "        else:\n",
    "            print (\"Alternative: \", hit['_source']['alternative'])\n",
    "        #print (hit['_score'])\n",
    "        print ('**********************')\n"
   ]
  },
  {
   "cell_type": "code",
   "execution_count": 461,
   "metadata": {},
   "outputs": [],
   "source": [
    "def find_in_alternate(word):\n",
    "    body = {\n",
    "        \"from\":0,\n",
    "        \"track_total_hits\": True,\n",
    "        \"size\": 7,\n",
    "        \"query\": {\n",
    "            \"match\": {\n",
    "                \"alternative\":word\n",
    "            }\n",
    "        }\n",
    "    }\n",
    "\n",
    "    res = es.search(index=\"ix\",body=body)\n",
    "    \n",
    "    if res['hits']['total']['value'] > 7:\n",
    "            print(\"Too many results. Just first 7 are shown. Be more specific.\")\n",
    "            print(\"...\")\n",
    "    for hit in res['hits']['hits']:\n",
    "        print (\"Title: \",hit['_source']['title']) \n",
    "        print (\"Alternative: \",hit['_source']['alternative'])\n",
    "        #print (hit['_score'])\n",
    "        print ('**********************')"
   ]
  },
  {
   "cell_type": "markdown",
   "metadata": {},
   "source": [
    "# Searching the titles\n",
    "\n",
    "To search for the titles, you need to write in this cell between apostrophes the title you are searching for. "
   ]
  },
  {
   "cell_type": "code",
   "execution_count": 487,
   "metadata": {},
   "outputs": [
    {
     "name": "stdout",
     "output_type": "stream",
     "text": [
      "Title:   Sauron\n",
      "\n",
      "Alternative:   Dark Lord, Necroncer\n",
      "\n",
      "**********************\n",
      "Title:   Sauron (comics)\n",
      "\n",
      "-- No alternative name --\n",
      "**********************\n"
     ]
    }
   ],
   "source": [
    "want_to_find_title = \"Sauron\"\n",
    "find_in_titles(want_to_find_title)"
   ]
  },
  {
   "cell_type": "markdown",
   "metadata": {},
   "source": [
    "# Searching the alternative names\n",
    "\n",
    "To search for the alternative names, you need to write in this cell between apostrophes the alternate name you are searching for. "
   ]
  },
  {
   "cell_type": "code",
   "execution_count": 471,
   "metadata": {},
   "outputs": [
    {
     "name": "stdout",
     "output_type": "stream",
     "text": [
      "Too many results. Just first 7 are shown. Be more specific.\n",
      "...\n",
      "Title:   Sauron\n",
      "\n",
      "Alternative:   Dark Lord, Necroncer\n",
      "\n",
      "**********************\n",
      "Title:   Michał Oleksiejczuk\n",
      "\n",
      "Alternative:   Lord\n",
      "\n",
      "**********************\n",
      "Title:   Kevin Poulsen\n",
      "\n",
      "Alternative:   Dark Dante\n",
      "\n",
      "**********************\n",
      "Title:   Dark New Day\n",
      "\n",
      "Alternative:   Dark Blue\n",
      "\n",
      "**********************\n",
      "Title:   Kaline Medeiros\n",
      "\n",
      "Alternative:   Dark Angel\n",
      "\n",
      "**********************\n",
      "Title:   DJ Lord\n",
      "\n",
      "Alternative:   DJ Lord, Mista Lord\n",
      "\n",
      "**********************\n",
      "Title:   Dungeon synth\n",
      "\n",
      "Alternative:   Dark Medieval, Medieval Dark Ambient, Dark Dungeon Music, Black Ambient\n",
      "\n",
      "**********************\n"
     ]
    }
   ],
   "source": [
    "want_to_find_alternate = \"Dark Lord\" \n",
    "find_in_alternate(want_to_find_alternate)"
   ]
  },
  {
   "cell_type": "markdown",
   "metadata": {},
   "source": [
    "------------------"
   ]
  }
 ],
 "metadata": {
  "kernelspec": {
   "display_name": "Python 3",
   "language": "python",
   "name": "python3"
  },
  "language_info": {
   "codemirror_mode": {
    "name": "ipython",
    "version": 3
   },
   "file_extension": ".py",
   "mimetype": "text/x-python",
   "name": "python",
   "nbconvert_exporter": "python",
   "pygments_lexer": "ipython3",
   "version": "3.7.3"
  }
 },
 "nbformat": 4,
 "nbformat_minor": 2
}
